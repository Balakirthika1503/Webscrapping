{
 "cells": [
  {
   "cell_type": "code",
   "execution_count": null,
   "metadata": {},
   "outputs": [],
   "source": [
    "from bs4 import BeautifulSoup \n",
    "from selenium import webdriver\n",
    "from selenium.webdriver.common.by import By\n",
    "from selenium.webdriver.support import expected_conditions as EC\n",
    "from selenium.webdriver.support.ui import WebDriverWait\n",
    "\n",
    "import requests \n",
    "import pandas as pd\n",
    "from selenium.webdriver.common.keys import Keys \n",
    "import time\n"
   ]
  },
  {
   "cell_type": "code",
   "execution_count": null,
   "metadata": {},
   "outputs": [],
   "source": [
    "PATH=\"C:\\Program Files (x86)\\chromedriver.exe\"\n",
    "driver=webdriver.Chrome(PATH)\n",
    "driver.get(\"https://court.martinclerk.com/Home.aspx/Search\")\n",
    "\n"
   ]
  },
  {
   "cell_type": "code",
   "execution_count": null,
   "metadata": {},
   "outputs": [],
   "source": [
    "datefield = driver.find_element_by_id('openedFrom')\n",
    "datefield.click()\n",
    "datefield.send_keys(\"03162020\")\n",
    "\n",
    "\n"
   ]
  },
  {
   "cell_type": "code",
   "execution_count": null,
   "metadata": {},
   "outputs": [],
   "source": [
    "datefield_1 = driver.find_element_by_id('openedTo')\n",
    "datefield_1.click()\n",
    "datefield_1.send_keys(\"03222020\")\n"
   ]
  },
  {
   "cell_type": "code",
   "execution_count": null,
   "metadata": {},
   "outputs": [],
   "source": [
    "driver.find_element_by_xpath(\"//*[@id='courTypesButton']\").click()\n",
    "\n"
   ]
  },
  {
   "cell_type": "code",
   "execution_count": null,
   "metadata": {},
   "outputs": [],
   "source": [
    "driver.find_element_by_xpath(\"//*[@id='courTypesMultiSelect']/ul/li[1]/a/label/input\").click()\n",
    "time.sleep(2) "
   ]
  },
  {
   "cell_type": "code",
   "execution_count": null,
   "metadata": {},
   "outputs": [],
   "source": [
    "driver.find_element_by_xpath(\"//*[@id='courTypesMultiSelect']/ul/li[3]/a/label/input\").click()\n",
    "time.sleep(5)\n"
   ]
  },
  {
   "cell_type": "code",
   "execution_count": null,
   "metadata": {},
   "outputs": [],
   "source": [
    "driver.find_element_by_xpath(\"//*[@id='courTypesButton']\").click()\n",
    "time.sleep(2)\n"
   ]
  },
  {
   "cell_type": "code",
   "execution_count": null,
   "metadata": {},
   "outputs": [],
   "source": [
    "driver.find_element_by_xpath(\"//*[@id='caseTypesButton']\").click()\n"
   ]
  },
  {
   "cell_type": "code",
   "execution_count": null,
   "metadata": {},
   "outputs": [],
   "source": [
    "driver.find_element_by_xpath(\"//*[@id='caseTypesMultiSelect']/ul/li[1]/a/label/input\").click()\n",
    "time.sleep(1)\n"
   ]
  },
  {
   "cell_type": "code",
   "execution_count": null,
   "metadata": {},
   "outputs": [],
   "source": [
    "for i in range(69,78):\n",
    "    driver.find_element_by_xpath(\"//*[@id='caseTypesMultiSelect']/ul/li[\"+str(i)+\"]/a/label/input\").click()\n",
    "    \n"
   ]
  },
  {
   "cell_type": "code",
   "execution_count": null,
   "metadata": {},
   "outputs": [],
   "source": [
    "#driver.find_element_by_xpath(\"//*[@id='page_header']/div/div[1]/div\").text"
   ]
  },
  {
   "cell_type": "code",
   "execution_count": null,
   "metadata": {},
   "outputs": [],
   "source": [
    "#driver.execute_script(\"return document.getElementsByClassName('clerkfiledate')[1].innerText\")"
   ]
  },
  {
   "cell_type": "code",
   "execution_count": null,
   "metadata": {},
   "outputs": [],
   "source": [
    "#driver.execute_script(\"return document.getElementsByClassName('casetype')[1].innerText\")"
   ]
  },
  {
   "cell_type": "code",
   "execution_count": null,
   "metadata": {},
   "outputs": [],
   "source": [
    "table=driver.execute_script(\"return document.getElementById('gridSearchResults')\")"
   ]
  },
  {
   "cell_type": "code",
   "execution_count": null,
   "metadata": {},
   "outputs": [],
   "source": [
    "rows = driver.execute_script(\"return document.getElementsByTagName('tr')\")\n",
    "len(rows)"
   ]
  },
  {
   "cell_type": "code",
   "execution_count": null,
   "metadata": {},
   "outputs": [],
   "source": [
    "data_row = []\n",
    "for index in range(1,len(rows)):\n",
    "    data_row.append(rows[index].text)\n",
    "\n",
    "print(\"length of Data Collected From Rows = \",len(data_row))"
   ]
  },
  {
   "cell_type": "code",
   "execution_count": null,
   "metadata": {},
   "outputs": [],
   "source": [
    "print(data_row)"
   ]
  },
  {
   "cell_type": "code",
   "execution_count": null,
   "metadata": {},
   "outputs": [],
   "source": [
    "raw_data = []\n",
    "case_date = []\n",
    "case_type = []\n",
    "for i in range(len(data_row)):\n",
    "    driver.find_element_by_xpath(\"//*[@id='gridSearchResults']/tbody/tr[\"+str(i+1)+\"]/td[3]/a\").click() \n",
    "    //*[@id=\"gridSearchResults\"]/tbody/tr[1]/td[3]/a\n",
    "        #Web page load completely\n",
    "    time.sleep(5)\n",
    "    data = driver.execute_script(\"return document.getElementsByClassName('pull-left')[0].innerText\")\n",
    "    time.sleep(3)\n",
    "    Case_Date = driver.execute_script(\"return document.getElementsByClassName('clerkfiledate')[1].innerText\")\n",
    "    time.sleep(3)\n",
    "    Case_Type = driver.execute_script(\"return document.getElementsByClassName('casetype')[1].innerText\")\n",
    "    time.sleep(3)\n",
    "    raw_data.append(data)\n",
    "    case_date.append(Case_Date)\n",
    "    case_type.append(Case_Type)\n",
    "    time.sleep(2)\n",
    "        #to go back to previous page\n",
    "    driver.execute_script(\"window.history.go(-1)\")\n",
    "        #to load the page with all classes\n",
    "    time.sleep(5)\n",
    "\n",
    "\n",
    "driver.execute_script(\"window.history.go(-1)\")\n",
    "\n"
   ]
  },
  {
   "cell_type": "code",
   "execution_count": null,
   "metadata": {},
   "outputs": [],
   "source": [
    "print(len(raw_data))"
   ]
  },
  {
   "cell_type": "code",
   "execution_count": null,
   "metadata": {},
   "outputs": [],
   "source": [
    "print(raw_data)"
   ]
  },
  {
   "cell_type": "code",
   "execution_count": null,
   "metadata": {},
   "outputs": [],
   "source": [
    "len(case_date)"
   ]
  },
  {
   "cell_type": "code",
   "execution_count": null,
   "metadata": {},
   "outputs": [],
   "source": [
    "len(case_type)"
   ]
  },
  {
   "cell_type": "code",
   "execution_count": null,
   "metadata": {},
   "outputs": [],
   "source": [
    "print(case_date)"
   ]
  },
  {
   "cell_type": "code",
   "execution_count": null,
   "metadata": {},
   "outputs": [],
   "source": [
    "print(case_type)"
   ]
  },
  {
   "cell_type": "code",
   "execution_count": null,
   "metadata": {},
   "outputs": [],
   "source": [
    "case_id = []\n",
    "bank_name = []\n",
    "def_name = []\n",
    "for i in range(len(raw_data)):\n",
    "    caseid = raw_data[i].split(\"-\")[0]\n",
    "    case_id.append(caseid)\n",
    "    bankname = raw_data[i].split(\"-\")[1].split(\"vs.\")[0]\n",
    "    bank_name.append(bankname)\n",
    "    defname = raw_data[i].split(\"-\")[1].split(\"vs.\")[1]\n",
    "    def_name.append(defname)\n",
    "\n",
    "print(len(bank_name),len(case_id),len(def_name))"
   ]
  },
  {
   "cell_type": "code",
   "execution_count": null,
   "metadata": {},
   "outputs": [],
   "source": [
    "print(case_id)\n"
   ]
  },
  {
   "cell_type": "code",
   "execution_count": null,
   "metadata": {},
   "outputs": [],
   "source": [
    "print(bank_name)"
   ]
  },
  {
   "cell_type": "code",
   "execution_count": null,
   "metadata": {},
   "outputs": [],
   "source": [
    "print(def_name)"
   ]
  },
  {
   "cell_type": "code",
   "execution_count": null,
   "metadata": {},
   "outputs": [],
   "source": [
    "Details ={'Case_Id':case_id,'Case_Type':case_type,'Case_Date':case_date,'Defendant_Name':def_name,'Bank_name':bank_name}\n"
   ]
  },
  {
   "cell_type": "code",
   "execution_count": null,
   "metadata": {},
   "outputs": [],
   "source": [
    "df=pd.DataFrame.from_dict(Details,orient='index')"
   ]
  },
  {
   "cell_type": "code",
   "execution_count": null,
   "metadata": {},
   "outputs": [],
   "source": [
    "df=df.transpose()"
   ]
  },
  {
   "cell_type": "code",
   "execution_count": null,
   "metadata": {},
   "outputs": [],
   "source": [
    "df"
   ]
  },
  {
   "cell_type": "code",
   "execution_count": null,
   "metadata": {},
   "outputs": [],
   "source": [
    "df.to_csv('Details.csv')\n"
   ]
  },
  {
   "cell_type": "code",
   "execution_count": null,
   "metadata": {},
   "outputs": [],
   "source": [
    "for i in range(len(data_row)):\n",
    "        driver.find_element_by_xpath(\"//*[@id='gridSearchResults']/tbody/tr[\"+str(i+1)+\"]/td[3]/a\").click()   \n",
    "        #Web page load completely\n",
    "        time.sleep(10)\n",
    "        # PDF\n",
    "        # Searching For PDF\n",
    "        table = driver.find_element_by_id(\"gridDockets\")\n",
    "        rows = table.find_elements_by_tag_name(\"tr\")\n",
    "\n",
    "        # Gathering Data From GRID_DOCKETS {PDF search}\n",
    "        gridDockets = []\n",
    "        for i in range(1,len(rows)):\n",
    "            gridDockets.append(rows[i].text)\n",
    "        print(\"Lenght of Data Collected From Rows = \",len(gridDockets))\n",
    "        # Searching for PDF present or not\n",
    "        # imgCol\n",
    "        for caught,data in enumerate(gridDockets):\n",
    "            if ( \"VALUE OF REAL PROPERTY OR MORTGAGE FORECLOSURE CLAIM:\" in data ):\n",
    "                print(\"PDF Found index = \",caught)\n",
    "                \n",
    "                \n"
   ]
  },
  {
   "cell_type": "code",
   "execution_count": null,
   "metadata": {},
   "outputs": [],
   "source": [
    "len(rows)"
   ]
  },
  {
   "cell_type": "code",
   "execution_count": null,
   "metadata": {},
   "outputs": [],
   "source": [
    "import pytesseract\n",
    "import re\n",
    "import pyautogui\n",
    "\n",
    "x=0\n",
    "for i in range(caught):\n",
    "    try:\n",
    "        #re.search(\"\\d{1}\\s\\s\\s\\d{1,2}\\/\\d{1,2}\\/\\d{4}\",gridDockets[i]).group()\n",
    "        img = True\n",
    "        x+=1\n",
    "        print(\"True\",x)\n",
    "    except Exception as e:\n",
    "        pass\n",
    "        #Clicking on the PDF imaged button\n",
    "        \n",
    "        javaScript = 'document.getElementsByClassName(\"icon-fixed-width icon-large icon-file-alt\")['+str(x+1)+'].click();'\n",
    "        driver.execute_script(javaScript)\n",
    "\n",
    "        time.sleep(2)\n",
    "        driver.switch_to.window(driver.window_handles[0])\n",
    "        time.sleep(2)\n",
    "        driver.switch_to.window(driver.window_handles[1])\n",
    "        time.sleep(15)\n",
    "        pyautogui.moveTo(1319, 38)\n",
    "        time.sleep(5)\n",
    "        pyautogui.moveTo(1212, 176)\n",
    "        pyautogui.click()\n",
    "        time.sleep(1)\n",
    "        pyautogui.press('enter')\n",
    "        driver.switch_to.window(driver.window_handles[0])\n",
    "        time.sleep(2)\n",
    "        driver.switch_to.window(driver.window_handles[1])\n",
    "        driver.close()\n",
    "        driver.switch_to.window(driver.window_handles[0])\n",
    "        # To get back to search results\n",
    "        driver.execute_script(\"window.history.go(-1)\")\n"
   ]
  },
  {
   "cell_type": "code",
   "execution_count": null,
   "metadata": {},
   "outputs": [],
   "source": [
    "import glob\n",
    "from pdf2image import convert_from_path\n",
    "\n",
    "try:\n",
    "    #Using GLOB module\n",
    "    fn = glob.glob(\"C:\\\\Users\\\\Kirthika\\\\Downloads\\\\*.pdf\")\n",
    "    FN = fn[0]\n",
    "    print(\"Filename = \",FN)\n",
    "    filename = FN\n",
    "    pages = convert_from_path(filename, 500,poppler_path=r'C:\\Users\\Kirthika\\Downloads')\n",
    "    print(\"Number of Pages found in PDF = \",len(pages))\n",
    "    matches = \"\"\n",
    "    for page in pages:\n",
    "        page.save('C:\\\\Users\\\\Kirthika\\\\Downloads\\\\property_value.jpg', 'JPEG')\n",
    "        global property_value\n",
    "        property_value = str(((pytesseract.image_to_string(Image.open('C:\\\\Users\\\\Kirthika\\\\Downloads\\\\property_value.jpg'))))).lower()\n",
    "         #print(property_value)\n",
    "        try:\n",
    "                matches = re.search(\"(\\\\d+\\\\W)*total estimated value of claim(\\\\W*\\\\d*)+\", property_value).group()\n",
    "                matches = matches.split(\"\\n\")\n",
    "                if \"total\" in matches[0]:\n",
    "                    matches = matches [0]\n",
    "                else:\n",
    "                    matches = matches[1]\n",
    "                #print(matches, \"1\")\n",
    "                claim_value = re.search(\"(\\\\d+\\\\W)+\", matches).group()\n",
    "                #print(claim_value)\n",
    "        except Exception as e:\n",
    "                claim_value=\"0\"\n",
    "                print(\"pdf_claim_value() error = \",e)\n",
    "        # Appending claim_value to CVL list \n",
    "        if(claim_value==\"0\"):\n",
    "            CVL.append(\"0\")\n",
    "            print(\"ClaimValue = \",claim_value)\n",
    "        else:\n",
    "            CVL.append(claim_value)\n",
    "            print(\"ClaimValue = \",claim_value)\n",
    "        #print(\"ITERATION  at pdf_claim_value() = \",CASE_NUM)\n",
    "        os.remove('C:\\\\Users\\\\Dishant\\\\Downloads\\\\property_value.jpg')\n",
    "        os.remove(filename)\n",
    "except Exception as e:\n",
    "    print(\"Error at pdf_claim_value()\",e)\n"
   ]
  },
  {
   "cell_type": "code",
   "execution_count": null,
   "metadata": {},
   "outputs": [],
   "source": []
  },
  {
   "cell_type": "code",
   "execution_count": null,
   "metadata": {},
   "outputs": [],
   "source": []
  },
  {
   "cell_type": "code",
   "execution_count": null,
   "metadata": {},
   "outputs": [],
   "source": []
  }
 ],
 "metadata": {
  "kernelspec": {
   "display_name": "Python 3",
   "language": "python",
   "name": "python3"
  },
  "language_info": {
   "codemirror_mode": {
    "name": "ipython",
    "version": 3
   },
   "file_extension": ".py",
   "mimetype": "text/x-python",
   "name": "python",
   "nbconvert_exporter": "python",
   "pygments_lexer": "ipython3",
   "version": "3.6.5"
  }
 },
 "nbformat": 4,
 "nbformat_minor": 2
}
